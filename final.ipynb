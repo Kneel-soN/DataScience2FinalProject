{
 "cells": [
  {
   "cell_type": "code",
   "execution_count": 55,
   "metadata": {},
   "outputs": [
    {
     "name": "stdout",
     "output_type": "stream",
     "text": [
      "                              review_ID                      last_bot_run  \\\n",
      "0  a80bdb3c-5c20-4783-82ff-4c14e651834a  2024-12-10T05:06:03.265112+00:00   \n",
      "1  5bba96d2-d492-4bb5-a3f7-15bca76ecbb6  2024-12-10T05:06:03.266108+00:00   \n",
      "2  05f811d9-cad9-41b8-98f3-91b2864b9e42  2024-12-10T05:06:03.266108+00:00   \n",
      "3  e76af258-6a6c-4c24-b9fb-f4a89b8c7aa2  2024-12-10T05:06:03.267111+00:00   \n",
      "4  b91474f3-943d-4b3e-b286-bbd54281189b  2024-12-10T05:06:03.268109+00:00   \n",
      "\n",
      "                                  review_url  \\\n",
      "0  https://maps.app.goo.gl/5zBhGh4ozxnpssEz6   \n",
      "1  https://maps.app.goo.gl/YJriVam79VYhUCVY6   \n",
      "2  https://maps.app.goo.gl/uf7ztTRNgaC4csyi6   \n",
      "3  https://maps.app.goo.gl/ikwDAUHQjVbVfZeS9   \n",
      "4  https://maps.app.goo.gl/4vZQy5YdG2MVYEKc9   \n",
      "\n",
      "                                user_ID                 user_email  \\\n",
      "0  b604df4f-e3eb-400a-ab70-1aa3e061cfec  levai@lrymarketing.com.au   \n",
      "1  b604df4f-e3eb-400a-ab70-1aa3e061cfec  levai@lrymarketing.com.au   \n",
      "2  b604df4f-e3eb-400a-ab70-1aa3e061cfec  levai@lrymarketing.com.au   \n",
      "3  b604df4f-e3eb-400a-ab70-1aa3e061cfec  levai@lrymarketing.com.au   \n",
      "4  b604df4f-e3eb-400a-ab70-1aa3e061cfec  levai@lrymarketing.com.au   \n",
      "\n",
      "  user_first_name user_last_name user_type  \\\n",
      "0           Levai          Young     Admin   \n",
      "1           Levai          Young     Admin   \n",
      "2           Levai          Young     Admin   \n",
      "3           Levai          Young     Admin   \n",
      "4           Levai          Young     Admin   \n",
      "\n",
      "                            business_ID                 business_name  ...  \\\n",
      "0  74213c43-84e0-4a05-b2df-597dd5acb90e       Greenacres Caravan Park  ...   \n",
      "1  410c17b1-810b-4d14-8664-dbb9c44d9112         Paten Road Playground  ...   \n",
      "2  7fbd8b52-97dd-4e2a-99e9-b93e27aa2dba  Sunset Place Park Playground  ...   \n",
      "3  158c9ce1-f463-4d85-9679-bc532f71f7fb          Roma Street Parkland  ...   \n",
      "4  477812f1-1548-44da-aedf-e930e6919c10  Mercure Brisbane Garden City  ...   \n",
      "\n",
      "  review_rating review_edit_attempt review_status  \\\n",
      "0           4.0                 0.0       Removed   \n",
      "1           4.0                 0.0       Removed   \n",
      "2           4.0                 0.0       Removed   \n",
      "3           4.0                 0.0          Live   \n",
      "4           4.0                 0.0          Live   \n",
      "\n",
      "                                 review_warmup_prior  \\\n",
      "0  visited other websites, checked the location a...   \n",
      "1  visited other websites, checked the location a...   \n",
      "2  visited other websites, checked the location a...   \n",
      "3  visited other websites, checked the location a...   \n",
      "4  visited other websites, checked the location a...   \n",
      "\n",
      "                                        review_notes  \\\n",
      "0  showed immediately (via incognito + refresh), ...   \n",
      "1  showed immediately (via incognito + refresh), ...   \n",
      "2  showed immediately (via incognito + refresh), ...   \n",
      "3  showed immediately (via incognito + refresh), ...   \n",
      "4  showed immediately (via incognito + refresh), ...   \n",
      "\n",
      "   review_pre_remove_live_days       review_created_date  review_edited_date  \\\n",
      "0                          0.0  2024-01-17T00:00:00.000Z                 NaN   \n",
      "1                          0.0  2024-01-17T00:00:00.000Z                 NaN   \n",
      "2                          0.0  2024-01-17T00:00:00.000Z                 NaN   \n",
      "3                          0.0  2024-01-23T00:00:00.000Z                 NaN   \n",
      "4                          0.0  2024-01-24T00:00:00.000Z                 NaN   \n",
      "\n",
      "        review_removed_date review_edit_status  \n",
      "0  2024-11-18T02:53:12.000Z                0.0  \n",
      "1  2024-11-18T02:53:14.000Z                0.0  \n",
      "2  2024-11-18T02:53:15.000Z                0.0  \n",
      "3                       NaN                0.0  \n",
      "4                       NaN                0.0  \n",
      "\n",
      "[5 rows x 27 columns]\n"
     ]
    }
   ],
   "source": [
    "import pandas as pd\n",
    "\n",
    "file_path = 'LRY-Reviews.csv'\n",
    "\n",
    "df = pd.read_csv(file_path)\n",
    "\n",
    "print(df.head())\n"
   ]
  },
  {
   "cell_type": "code",
   "execution_count": 56,
   "metadata": {},
   "outputs": [
    {
     "name": "stdout",
     "output_type": "stream",
     "text": [
      "<class 'pandas.core.frame.DataFrame'>\n",
      "RangeIndex: 2627 entries, 0 to 2626\n",
      "Data columns (total 27 columns):\n",
      " #   Column                       Non-Null Count  Dtype  \n",
      "---  ------                       --------------  -----  \n",
      " 0   review_ID                    2627 non-null   object \n",
      " 1   last_bot_run                 2627 non-null   object \n",
      " 2   review_url                   2627 non-null   object \n",
      " 3   user_ID                      2627 non-null   object \n",
      " 4   user_email                   2627 non-null   object \n",
      " 5   user_first_name              2627 non-null   object \n",
      " 6   user_last_name               2627 non-null   object \n",
      " 7   user_type                    2627 non-null   object \n",
      " 8   business_ID                  2627 non-null   object \n",
      " 9   business_name                2627 non-null   object \n",
      " 10  business_location            21 non-null     object \n",
      " 11  business_category            2627 non-null   object \n",
      " 12  profile_source_id            2627 non-null   object \n",
      " 13  profile_name                 2505 non-null   object \n",
      " 14  profile_email                2504 non-null   object \n",
      " 15  review_live_days             2627 non-null   float64\n",
      " 16  review_message               2607 non-null   object \n",
      " 17  review_rating                2627 non-null   float64\n",
      " 18  review_edit_attempt          2627 non-null   float64\n",
      " 19  review_status                2627 non-null   object \n",
      " 20  review_warmup_prior          1940 non-null   object \n",
      " 21  review_notes                 1937 non-null   object \n",
      " 22  review_pre_remove_live_days  2627 non-null   float64\n",
      " 23  review_created_date          2627 non-null   object \n",
      " 24  review_edited_date           0 non-null      float64\n",
      " 25  review_removed_date          687 non-null    object \n",
      " 26  review_edit_status           2627 non-null   float64\n",
      "dtypes: float64(6), object(21)\n",
      "memory usage: 554.3+ KB\n"
     ]
    }
   ],
   "source": [
    "df.info()"
   ]
  },
  {
   "cell_type": "code",
   "execution_count": 57,
   "metadata": {},
   "outputs": [
    {
     "name": "stdout",
     "output_type": "stream",
     "text": [
      "                              review_ID                           business_ID  \\\n",
      "0  a80bdb3c-5c20-4783-82ff-4c14e651834a  74213c43-84e0-4a05-b2df-597dd5acb90e   \n",
      "1  5bba96d2-d492-4bb5-a3f7-15bca76ecbb6  410c17b1-810b-4d14-8664-dbb9c44d9112   \n",
      "2  05f811d9-cad9-41b8-98f3-91b2864b9e42  7fbd8b52-97dd-4e2a-99e9-b93e27aa2dba   \n",
      "3  e76af258-6a6c-4c24-b9fb-f4a89b8c7aa2  158c9ce1-f463-4d85-9679-bc532f71f7fb   \n",
      "4  b91474f3-943d-4b3e-b286-bbd54281189b  477812f1-1548-44da-aedf-e930e6919c10   \n",
      "\n",
      "                  business_name business_category  review_live_days  \\\n",
      "0       Greenacres Caravan Park             Other               1.0   \n",
      "1         Paten Road Playground             Other               1.0   \n",
      "2  Sunset Place Park Playground             Other               1.0   \n",
      "3          Roma Street Parkland             Other             302.0   \n",
      "4  Mercure Brisbane Garden City             Other             301.0   \n",
      "\n",
      "                                      review_message  review_rating  \\\n",
      "0  Personally liked how they have a park for dogs...            4.0   \n",
      "1  It's still a good playground to visit with kid...            4.0   \n",
      "2  A small area/playground for kids and some picn...            4.0   \n",
      "3                       One of the best parks for me            4.0   \n",
      "4  Its a good location, however, the place needs ...            4.0   \n",
      "\n",
      "  review_status                                review_warmup_prior  \\\n",
      "0       Removed  visited other websites, checked the location a...   \n",
      "1       Removed  visited other websites, checked the location a...   \n",
      "2       Removed  visited other websites, checked the location a...   \n",
      "3          Live  visited other websites, checked the location a...   \n",
      "4          Live  visited other websites, checked the location a...   \n",
      "\n",
      "                                        review_notes  \\\n",
      "0  showed immediately (via incognito + refresh), ...   \n",
      "1  showed immediately (via incognito + refresh), ...   \n",
      "2  showed immediately (via incognito + refresh), ...   \n",
      "3  showed immediately (via incognito + refresh), ...   \n",
      "4  showed immediately (via incognito + refresh), ...   \n",
      "\n",
      "        review_created_date       review_removed_date  \n",
      "0  2024-01-17T00:00:00.000Z  2024-11-18T02:53:12.000Z  \n",
      "1  2024-01-17T00:00:00.000Z  2024-11-18T02:53:14.000Z  \n",
      "2  2024-01-17T00:00:00.000Z  2024-11-18T02:53:15.000Z  \n",
      "3  2024-01-23T00:00:00.000Z                       NaN  \n",
      "4  2024-01-24T00:00:00.000Z                       NaN  \n"
     ]
    }
   ],
   "source": [
    "import pandas as pd\n",
    "\n",
    "df = pd.read_csv('LRY-Reviews.csv')\n",
    "\n",
    "# Drop the specified columns\n",
    "columns_to_drop = ['user_email', 'user_first_name', 'user_last_name', 'review_url',\n",
    "                   'profile_source_id', 'profile_name', 'profile_email', \n",
    "                   'user_type', 'user_ID', 'business_location', \n",
    "                   'review_edit_attempt', 'review_edit_status', 'review_pre_remove_live_days',\n",
    "                   'review_edited_date', 'last_bot_run']\n",
    "\n",
    "df_anonymized = df.drop(columns=columns_to_drop, errors='ignore')  # 'ignore' prevents errors if columns aren't found\n",
    "\n",
    "df_anonymized.to_csv('anonymized.csv', index=False)\n",
    "\n",
    "print(df_anonymized.head())\n"
   ]
  },
  {
   "cell_type": "code",
   "execution_count": 58,
   "metadata": {},
   "outputs": [
    {
     "name": "stdout",
     "output_type": "stream",
     "text": [
      "<class 'pandas.core.frame.DataFrame'>\n",
      "RangeIndex: 2627 entries, 0 to 2626\n",
      "Data columns (total 12 columns):\n",
      " #   Column               Non-Null Count  Dtype  \n",
      "---  ------               --------------  -----  \n",
      " 0   review_ID            2627 non-null   object \n",
      " 1   business_ID          2627 non-null   object \n",
      " 2   business_name        2627 non-null   object \n",
      " 3   business_category    2627 non-null   object \n",
      " 4   review_live_days     2627 non-null   float64\n",
      " 5   review_message       2607 non-null   object \n",
      " 6   review_rating        2627 non-null   float64\n",
      " 7   review_status        2627 non-null   object \n",
      " 8   review_warmup_prior  1940 non-null   object \n",
      " 9   review_notes         1937 non-null   object \n",
      " 10  review_created_date  2627 non-null   object \n",
      " 11  review_removed_date  687 non-null    object \n",
      "dtypes: float64(2), object(10)\n",
      "memory usage: 246.4+ KB\n"
     ]
    }
   ],
   "source": [
    "file_path = 'anonymized.csv'\n",
    "\n",
    "df = pd.read_csv(file_path)\n",
    "\n",
    "df.info()"
   ]
  },
  {
   "cell_type": "code",
   "execution_count": 59,
   "metadata": {},
   "outputs": [
    {
     "name": "stdout",
     "output_type": "stream",
     "text": [
      "                              review_ID                           business_ID  \\\n",
      "0  a80bdb3c-5c20-4783-82ff-4c14e651834a  74213c43-84e0-4a05-b2df-597dd5acb90e   \n",
      "1  5bba96d2-d492-4bb5-a3f7-15bca76ecbb6  410c17b1-810b-4d14-8664-dbb9c44d9112   \n",
      "2  05f811d9-cad9-41b8-98f3-91b2864b9e42  7fbd8b52-97dd-4e2a-99e9-b93e27aa2dba   \n",
      "3  e76af258-6a6c-4c24-b9fb-f4a89b8c7aa2  158c9ce1-f463-4d85-9679-bc532f71f7fb   \n",
      "4  b91474f3-943d-4b3e-b286-bbd54281189b  477812f1-1548-44da-aedf-e930e6919c10   \n",
      "\n",
      "                  business_name business_category  review_live_days  \\\n",
      "0       Greenacres Caravan Park             Other               1.0   \n",
      "1         Paten Road Playground             Other               1.0   \n",
      "2  Sunset Place Park Playground             Other               1.0   \n",
      "3          Roma Street Parkland             Other             302.0   \n",
      "4  Mercure Brisbane Garden City             Other             301.0   \n",
      "\n",
      "                                      review_message  review_rating  \\\n",
      "0  Personally liked how they have a park for dogs...            4.0   \n",
      "1  It's still a good playground to visit with kid...            4.0   \n",
      "2  A small area/playground for kids and some picn...            4.0   \n",
      "3                       One of the best parks for me            4.0   \n",
      "4  Its a good location, however, the place needs ...            4.0   \n",
      "\n",
      "  review_status                                review_warmup_prior  \\\n",
      "0       Removed  visited other websites, checked the location a...   \n",
      "1       Removed  visited other websites, checked the location a...   \n",
      "2       Removed  visited other websites, checked the location a...   \n",
      "3          Live  visited other websites, checked the location a...   \n",
      "4          Live  visited other websites, checked the location a...   \n",
      "\n",
      "                                        review_notes  \\\n",
      "0  showed immediately (via incognito + refresh), ...   \n",
      "1  showed immediately (via incognito + refresh), ...   \n",
      "2  showed immediately (via incognito + refresh), ...   \n",
      "3  showed immediately (via incognito + refresh), ...   \n",
      "4  showed immediately (via incognito + refresh), ...   \n",
      "\n",
      "        review_created_date       review_removed_date  \n",
      "0  2024-01-17T00:00:00.000Z  2024-11-18T02:53:12.000Z  \n",
      "1  2024-01-17T00:00:00.000Z  2024-11-18T02:53:14.000Z  \n",
      "2  2024-01-17T00:00:00.000Z  2024-11-18T02:53:15.000Z  \n",
      "3  2024-01-23T00:00:00.000Z                       NaN  \n",
      "4  2024-01-24T00:00:00.000Z                       NaN  \n"
     ]
    }
   ],
   "source": [
    "print(df.head())"
   ]
  },
  {
   "cell_type": "code",
   "execution_count": 60,
   "metadata": {},
   "outputs": [
    {
     "name": "stdout",
     "output_type": "stream",
     "text": [
      "<class 'pandas.core.frame.DataFrame'>\n",
      "RangeIndex: 2627 entries, 0 to 2626\n",
      "Data columns (total 12 columns):\n",
      " #   Column               Non-Null Count  Dtype  \n",
      "---  ------               --------------  -----  \n",
      " 0   review_ID            2627 non-null   object \n",
      " 1   business_ID          2627 non-null   object \n",
      " 2   business_name        2627 non-null   object \n",
      " 3   business_category    2627 non-null   object \n",
      " 4   review_live_days     2627 non-null   float64\n",
      " 5   review_message       2607 non-null   object \n",
      " 6   review_rating        2627 non-null   float64\n",
      " 7   review_status        2627 non-null   object \n",
      " 8   review_warmup_prior  1940 non-null   object \n",
      " 9   review_notes         1937 non-null   object \n",
      " 10  review_created_date  2627 non-null   object \n",
      " 11  review_removed_date  687 non-null    object \n",
      "dtypes: float64(2), object(10)\n",
      "memory usage: 246.4+ KB\n"
     ]
    }
   ],
   "source": [
    "df.info()"
   ]
  },
  {
   "cell_type": "code",
   "execution_count": null,
   "metadata": {},
   "outputs": [],
   "source": []
  }
 ],
 "metadata": {
  "kernelspec": {
   "display_name": "Python 3",
   "language": "python",
   "name": "python3"
  },
  "language_info": {
   "codemirror_mode": {
    "name": "ipython",
    "version": 3
   },
   "file_extension": ".py",
   "mimetype": "text/x-python",
   "name": "python",
   "nbconvert_exporter": "python",
   "pygments_lexer": "ipython3",
   "version": "3.12.2"
  }
 },
 "nbformat": 4,
 "nbformat_minor": 2
}
